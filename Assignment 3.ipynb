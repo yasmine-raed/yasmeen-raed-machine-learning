{
 "cells": [
  {
   "cell_type": "code",
   "execution_count": 898,
   "metadata": {},
   "outputs": [],
   "source": [
    "# used for manipulating directory paths\n",
    "import os\n",
    "\n",
    "# Scientific and vector computation for python\n",
    "import numpy as np\n",
    "\n",
    "# Plotting library\n",
    "from matplotlib import pyplot\n",
    "\n",
    "import pandas as pd"
   ]
  },
  {
   "cell_type": "code",
   "execution_count": 899,
   "metadata": {},
   "outputs": [
    {
     "data": {
      "text/html": [
       "<div>\n",
       "<style scoped>\n",
       "    .dataframe tbody tr th:only-of-type {\n",
       "        vertical-align: middle;\n",
       "    }\n",
       "\n",
       "    .dataframe tbody tr th {\n",
       "        vertical-align: top;\n",
       "    }\n",
       "\n",
       "    .dataframe thead th {\n",
       "        text-align: right;\n",
       "    }\n",
       "</style>\n",
       "<table border=\"1\" class=\"dataframe\">\n",
       "  <thead>\n",
       "    <tr style=\"text-align: right;\">\n",
       "      <th></th>\n",
       "      <th>id</th>\n",
       "      <th>date</th>\n",
       "      <th>price</th>\n",
       "      <th>bedrooms</th>\n",
       "      <th>bathrooms</th>\n",
       "      <th>sqft_living</th>\n",
       "      <th>sqft_lot</th>\n",
       "      <th>floors</th>\n",
       "      <th>waterfront</th>\n",
       "      <th>view</th>\n",
       "      <th>...</th>\n",
       "      <th>grade</th>\n",
       "      <th>sqft_above</th>\n",
       "      <th>sqft_basement</th>\n",
       "      <th>yr_built</th>\n",
       "      <th>yr_renovated</th>\n",
       "      <th>zipcode</th>\n",
       "      <th>lat</th>\n",
       "      <th>long</th>\n",
       "      <th>sqft_living15</th>\n",
       "      <th>sqft_lot15</th>\n",
       "    </tr>\n",
       "  </thead>\n",
       "  <tbody>\n",
       "    <tr>\n",
       "      <th>0</th>\n",
       "      <td>7129300520</td>\n",
       "      <td>20141013T000000</td>\n",
       "      <td>221900.0</td>\n",
       "      <td>3</td>\n",
       "      <td>1.00</td>\n",
       "      <td>1180</td>\n",
       "      <td>5650</td>\n",
       "      <td>1.0</td>\n",
       "      <td>0</td>\n",
       "      <td>0</td>\n",
       "      <td>...</td>\n",
       "      <td>7</td>\n",
       "      <td>1180</td>\n",
       "      <td>0</td>\n",
       "      <td>1955</td>\n",
       "      <td>0</td>\n",
       "      <td>98178</td>\n",
       "      <td>47.5112</td>\n",
       "      <td>-122.257</td>\n",
       "      <td>1340</td>\n",
       "      <td>5650</td>\n",
       "    </tr>\n",
       "    <tr>\n",
       "      <th>1</th>\n",
       "      <td>6414100192</td>\n",
       "      <td>20141209T000000</td>\n",
       "      <td>538000.0</td>\n",
       "      <td>3</td>\n",
       "      <td>2.25</td>\n",
       "      <td>2570</td>\n",
       "      <td>7242</td>\n",
       "      <td>2.0</td>\n",
       "      <td>0</td>\n",
       "      <td>0</td>\n",
       "      <td>...</td>\n",
       "      <td>7</td>\n",
       "      <td>2170</td>\n",
       "      <td>400</td>\n",
       "      <td>1951</td>\n",
       "      <td>1991</td>\n",
       "      <td>98125</td>\n",
       "      <td>47.7210</td>\n",
       "      <td>-122.319</td>\n",
       "      <td>1690</td>\n",
       "      <td>7639</td>\n",
       "    </tr>\n",
       "    <tr>\n",
       "      <th>2</th>\n",
       "      <td>5631500400</td>\n",
       "      <td>20150225T000000</td>\n",
       "      <td>180000.0</td>\n",
       "      <td>2</td>\n",
       "      <td>1.00</td>\n",
       "      <td>770</td>\n",
       "      <td>10000</td>\n",
       "      <td>1.0</td>\n",
       "      <td>0</td>\n",
       "      <td>0</td>\n",
       "      <td>...</td>\n",
       "      <td>6</td>\n",
       "      <td>770</td>\n",
       "      <td>0</td>\n",
       "      <td>1933</td>\n",
       "      <td>0</td>\n",
       "      <td>98028</td>\n",
       "      <td>47.7379</td>\n",
       "      <td>-122.233</td>\n",
       "      <td>2720</td>\n",
       "      <td>8062</td>\n",
       "    </tr>\n",
       "    <tr>\n",
       "      <th>3</th>\n",
       "      <td>2487200875</td>\n",
       "      <td>20141209T000000</td>\n",
       "      <td>604000.0</td>\n",
       "      <td>4</td>\n",
       "      <td>3.00</td>\n",
       "      <td>1960</td>\n",
       "      <td>5000</td>\n",
       "      <td>1.0</td>\n",
       "      <td>0</td>\n",
       "      <td>0</td>\n",
       "      <td>...</td>\n",
       "      <td>7</td>\n",
       "      <td>1050</td>\n",
       "      <td>910</td>\n",
       "      <td>1965</td>\n",
       "      <td>0</td>\n",
       "      <td>98136</td>\n",
       "      <td>47.5208</td>\n",
       "      <td>-122.393</td>\n",
       "      <td>1360</td>\n",
       "      <td>5000</td>\n",
       "    </tr>\n",
       "    <tr>\n",
       "      <th>4</th>\n",
       "      <td>1954400510</td>\n",
       "      <td>20150218T000000</td>\n",
       "      <td>510000.0</td>\n",
       "      <td>3</td>\n",
       "      <td>2.00</td>\n",
       "      <td>1680</td>\n",
       "      <td>8080</td>\n",
       "      <td>1.0</td>\n",
       "      <td>0</td>\n",
       "      <td>0</td>\n",
       "      <td>...</td>\n",
       "      <td>8</td>\n",
       "      <td>1680</td>\n",
       "      <td>0</td>\n",
       "      <td>1987</td>\n",
       "      <td>0</td>\n",
       "      <td>98074</td>\n",
       "      <td>47.6168</td>\n",
       "      <td>-122.045</td>\n",
       "      <td>1800</td>\n",
       "      <td>7503</td>\n",
       "    </tr>\n",
       "    <tr>\n",
       "      <th>...</th>\n",
       "      <td>...</td>\n",
       "      <td>...</td>\n",
       "      <td>...</td>\n",
       "      <td>...</td>\n",
       "      <td>...</td>\n",
       "      <td>...</td>\n",
       "      <td>...</td>\n",
       "      <td>...</td>\n",
       "      <td>...</td>\n",
       "      <td>...</td>\n",
       "      <td>...</td>\n",
       "      <td>...</td>\n",
       "      <td>...</td>\n",
       "      <td>...</td>\n",
       "      <td>...</td>\n",
       "      <td>...</td>\n",
       "      <td>...</td>\n",
       "      <td>...</td>\n",
       "      <td>...</td>\n",
       "      <td>...</td>\n",
       "      <td>...</td>\n",
       "    </tr>\n",
       "    <tr>\n",
       "      <th>21608</th>\n",
       "      <td>263000018</td>\n",
       "      <td>20140521T000000</td>\n",
       "      <td>360000.0</td>\n",
       "      <td>3</td>\n",
       "      <td>2.50</td>\n",
       "      <td>1530</td>\n",
       "      <td>1131</td>\n",
       "      <td>3.0</td>\n",
       "      <td>0</td>\n",
       "      <td>0</td>\n",
       "      <td>...</td>\n",
       "      <td>8</td>\n",
       "      <td>1530</td>\n",
       "      <td>0</td>\n",
       "      <td>2009</td>\n",
       "      <td>0</td>\n",
       "      <td>98103</td>\n",
       "      <td>47.6993</td>\n",
       "      <td>-122.346</td>\n",
       "      <td>1530</td>\n",
       "      <td>1509</td>\n",
       "    </tr>\n",
       "    <tr>\n",
       "      <th>21609</th>\n",
       "      <td>6600060120</td>\n",
       "      <td>20150223T000000</td>\n",
       "      <td>400000.0</td>\n",
       "      <td>4</td>\n",
       "      <td>2.50</td>\n",
       "      <td>2310</td>\n",
       "      <td>5813</td>\n",
       "      <td>2.0</td>\n",
       "      <td>0</td>\n",
       "      <td>0</td>\n",
       "      <td>...</td>\n",
       "      <td>8</td>\n",
       "      <td>2310</td>\n",
       "      <td>0</td>\n",
       "      <td>2014</td>\n",
       "      <td>0</td>\n",
       "      <td>98146</td>\n",
       "      <td>47.5107</td>\n",
       "      <td>-122.362</td>\n",
       "      <td>1830</td>\n",
       "      <td>7200</td>\n",
       "    </tr>\n",
       "    <tr>\n",
       "      <th>21610</th>\n",
       "      <td>1523300141</td>\n",
       "      <td>20140623T000000</td>\n",
       "      <td>402101.0</td>\n",
       "      <td>2</td>\n",
       "      <td>0.75</td>\n",
       "      <td>1020</td>\n",
       "      <td>1350</td>\n",
       "      <td>2.0</td>\n",
       "      <td>0</td>\n",
       "      <td>0</td>\n",
       "      <td>...</td>\n",
       "      <td>7</td>\n",
       "      <td>1020</td>\n",
       "      <td>0</td>\n",
       "      <td>2009</td>\n",
       "      <td>0</td>\n",
       "      <td>98144</td>\n",
       "      <td>47.5944</td>\n",
       "      <td>-122.299</td>\n",
       "      <td>1020</td>\n",
       "      <td>2007</td>\n",
       "    </tr>\n",
       "    <tr>\n",
       "      <th>21611</th>\n",
       "      <td>291310100</td>\n",
       "      <td>20150116T000000</td>\n",
       "      <td>400000.0</td>\n",
       "      <td>3</td>\n",
       "      <td>2.50</td>\n",
       "      <td>1600</td>\n",
       "      <td>2388</td>\n",
       "      <td>2.0</td>\n",
       "      <td>0</td>\n",
       "      <td>0</td>\n",
       "      <td>...</td>\n",
       "      <td>8</td>\n",
       "      <td>1600</td>\n",
       "      <td>0</td>\n",
       "      <td>2004</td>\n",
       "      <td>0</td>\n",
       "      <td>98027</td>\n",
       "      <td>47.5345</td>\n",
       "      <td>-122.069</td>\n",
       "      <td>1410</td>\n",
       "      <td>1287</td>\n",
       "    </tr>\n",
       "    <tr>\n",
       "      <th>21612</th>\n",
       "      <td>1523300157</td>\n",
       "      <td>20141015T000000</td>\n",
       "      <td>325000.0</td>\n",
       "      <td>2</td>\n",
       "      <td>0.75</td>\n",
       "      <td>1020</td>\n",
       "      <td>1076</td>\n",
       "      <td>2.0</td>\n",
       "      <td>0</td>\n",
       "      <td>0</td>\n",
       "      <td>...</td>\n",
       "      <td>7</td>\n",
       "      <td>1020</td>\n",
       "      <td>0</td>\n",
       "      <td>2008</td>\n",
       "      <td>0</td>\n",
       "      <td>98144</td>\n",
       "      <td>47.5941</td>\n",
       "      <td>-122.299</td>\n",
       "      <td>1020</td>\n",
       "      <td>1357</td>\n",
       "    </tr>\n",
       "  </tbody>\n",
       "</table>\n",
       "<p>21613 rows × 21 columns</p>\n",
       "</div>"
      ],
      "text/plain": [
       "               id             date     price  bedrooms  bathrooms  \\\n",
       "0      7129300520  20141013T000000  221900.0         3       1.00   \n",
       "1      6414100192  20141209T000000  538000.0         3       2.25   \n",
       "2      5631500400  20150225T000000  180000.0         2       1.00   \n",
       "3      2487200875  20141209T000000  604000.0         4       3.00   \n",
       "4      1954400510  20150218T000000  510000.0         3       2.00   \n",
       "...           ...              ...       ...       ...        ...   \n",
       "21608   263000018  20140521T000000  360000.0         3       2.50   \n",
       "21609  6600060120  20150223T000000  400000.0         4       2.50   \n",
       "21610  1523300141  20140623T000000  402101.0         2       0.75   \n",
       "21611   291310100  20150116T000000  400000.0         3       2.50   \n",
       "21612  1523300157  20141015T000000  325000.0         2       0.75   \n",
       "\n",
       "       sqft_living  sqft_lot  floors  waterfront  view  ...  grade  \\\n",
       "0             1180      5650     1.0           0     0  ...      7   \n",
       "1             2570      7242     2.0           0     0  ...      7   \n",
       "2              770     10000     1.0           0     0  ...      6   \n",
       "3             1960      5000     1.0           0     0  ...      7   \n",
       "4             1680      8080     1.0           0     0  ...      8   \n",
       "...            ...       ...     ...         ...   ...  ...    ...   \n",
       "21608         1530      1131     3.0           0     0  ...      8   \n",
       "21609         2310      5813     2.0           0     0  ...      8   \n",
       "21610         1020      1350     2.0           0     0  ...      7   \n",
       "21611         1600      2388     2.0           0     0  ...      8   \n",
       "21612         1020      1076     2.0           0     0  ...      7   \n",
       "\n",
       "       sqft_above  sqft_basement  yr_built  yr_renovated  zipcode      lat  \\\n",
       "0            1180              0      1955             0    98178  47.5112   \n",
       "1            2170            400      1951          1991    98125  47.7210   \n",
       "2             770              0      1933             0    98028  47.7379   \n",
       "3            1050            910      1965             0    98136  47.5208   \n",
       "4            1680              0      1987             0    98074  47.6168   \n",
       "...           ...            ...       ...           ...      ...      ...   \n",
       "21608        1530              0      2009             0    98103  47.6993   \n",
       "21609        2310              0      2014             0    98146  47.5107   \n",
       "21610        1020              0      2009             0    98144  47.5944   \n",
       "21611        1600              0      2004             0    98027  47.5345   \n",
       "21612        1020              0      2008             0    98144  47.5941   \n",
       "\n",
       "          long  sqft_living15  sqft_lot15  \n",
       "0     -122.257           1340        5650  \n",
       "1     -122.319           1690        7639  \n",
       "2     -122.233           2720        8062  \n",
       "3     -122.393           1360        5000  \n",
       "4     -122.045           1800        7503  \n",
       "...        ...            ...         ...  \n",
       "21608 -122.346           1530        1509  \n",
       "21609 -122.362           1830        7200  \n",
       "21610 -122.299           1020        2007  \n",
       "21611 -122.069           1410        1287  \n",
       "21612 -122.299           1020        1357  \n",
       "\n",
       "[21613 rows x 21 columns]"
      ]
     },
     "execution_count": 899,
     "metadata": {},
     "output_type": "execute_result"
    }
   ],
   "source": [
    "data = pd.read_csv(\"house_data_complete.csv\").dropna()\n",
    "data"
   ]
  },
  {
   "cell_type": "code",
   "execution_count": 900,
   "metadata": {},
   "outputs": [
    {
     "data": {
      "text/plain": [
       "Text(0.5, 0, 'Bedrooms')"
      ]
     },
     "execution_count": 900,
     "metadata": {},
     "output_type": "execute_result"
    },
    {
     "data": {
      "image/png": "[encoded data removed]",
      "text/plain": [
       "<Figure size 432x288 with 1 Axes>"
      ]
     },
     "metadata": {
      "needs_background": "light"
     },
     "output_type": "display_data"
    }
   ],
   "source": [
    "x,y = data[\"bedrooms\"],data[\"price\"]\n",
    "lambda_ = 1\n",
    "priceList = []\n",
    "bedroomList = []\n",
    "priceList = list(y)\n",
    "bedroomList = list(x)\n",
    "\n",
    "pyplot.plot(bedroomList, priceList, 'ro', ms=10, mec='k')\n",
    "pyplot.ylabel('Price')\n",
    "pyplot.xlabel('Bedrooms')"
   ]
  },
  {
   "cell_type": "code",
   "execution_count": 901,
   "metadata": {},
   "outputs": [
    {
     "name": "stdout",
     "output_type": "stream",
     "text": [
      "       bedrooms  bathrooms  sqft_living  sqft_lot    floors  waterfront  \\\n",
      "0     -0.398728  -1.447430    -0.979812 -0.228316 -0.915406   -0.087171   \n",
      "1     -0.398728   0.175603     0.533622 -0.189881  0.936484   -0.087171   \n",
      "2     -1.473925  -1.447430    -1.426221 -0.123296 -0.915406   -0.087171   \n",
      "3      0.676469   1.149422    -0.130547 -0.244009 -0.915406   -0.087171   \n",
      "4     -0.398728  -0.149004    -0.435412 -0.169649 -0.915406   -0.087171   \n",
      "...         ...        ...          ...       ...       ...         ...   \n",
      "21608 -0.398728   0.500209    -0.598732 -0.337417  2.788374   -0.087171   \n",
      "21609  0.676469   0.500209     0.250534 -0.224381  0.936484   -0.087171   \n",
      "21610 -1.473925  -1.772037    -1.154021 -0.332129  0.936484   -0.087171   \n",
      "21611 -0.398728   0.500209    -0.522516 -0.307069  0.936484   -0.087171   \n",
      "21612 -1.473925  -1.772037    -1.154021 -0.338744  0.936484   -0.087171   \n",
      "\n",
      "           view  condition     grade  sqft_above  sqft_basement  yr_built  \\\n",
      "0     -0.305752  -0.629172 -0.558823   -0.734691      -0.658666 -0.544885   \n",
      "1     -0.305752  -0.629172 -0.558823    0.460830       0.245136 -0.681063   \n",
      "2     -0.305752  -0.629172 -1.409554   -1.229805      -0.658666 -1.293862   \n",
      "3     -0.305752   2.444237 -0.558823   -0.891678       1.397483 -0.204441   \n",
      "4     -0.305752  -0.629172  0.291909   -0.130892      -0.658666  0.544535   \n",
      "...         ...        ...       ...         ...            ...       ...   \n",
      "21608 -0.305752  -0.629172  0.291909   -0.312032      -0.658666  1.293512   \n",
      "21609 -0.305752  -0.629172  0.291909    0.629894      -0.658666  1.463734   \n",
      "21610 -0.305752  -0.629172 -0.558823   -0.927906      -0.658666  1.293512   \n",
      "21611 -0.305752  -0.629172  0.291909   -0.227500      -0.658666  1.123290   \n",
      "21612 -0.305752  -0.629172 -0.558823   -0.927906      -0.658666  1.259468   \n",
      "\n",
      "       yr_renovated   zipcode       lat      long  sqft_living15  sqft_lot15  \n",
      "0         -0.210124  1.870108 -0.352564 -0.306072      -0.943333   -0.260709  \n",
      "1          4.746568  0.879547  1.161541 -0.746324      -0.432676   -0.187863  \n",
      "2         -0.210124 -0.933367  1.283507 -0.135652       1.070115   -0.172371  \n",
      "3         -0.210124  1.085135 -0.283281 -1.271787      -0.914153   -0.284515  \n",
      "4         -0.210124 -0.073634  0.409541  1.199307      -0.272184   -0.192844  \n",
      "...             ...       ...       ...       ...            ...         ...  \n",
      "21608     -0.210124  0.468371  1.004935 -0.938047      -0.666119   -0.412371  \n",
      "21609     -0.210124  1.272034 -0.356172 -1.051660      -0.228413   -0.203942  \n",
      "21610     -0.210124  1.234654  0.247882 -0.604307      -1.410220   -0.394132  \n",
      "21611     -0.210124 -0.952056 -0.184410  1.028887      -0.841202   -0.420502  \n",
      "21612     -0.210124  1.234654  0.245717 -0.604307      -1.410220   -0.417938  \n",
      "\n",
      "[21613 rows x 18 columns]\n"
     ]
    }
   ],
   "source": [
    "columns = data.columns[3:]\n",
    "norm_data = (data[columns] - (data[columns]).mean())/(data[columns]).std()\n",
    "print(norm_data)\n",
    "data[columns] = norm_data\n"
   ]
  },
  {
   "cell_type": "code",
   "execution_count": 902,
   "metadata": {},
   "outputs": [],
   "source": [
    "train, validate, test = np.split(data.sample(frac=1),[int(.6*len(data)),int(.8*len(data))])"
   ]
  },
  {
   "cell_type": "code",
   "execution_count": 903,
   "metadata": {},
   "outputs": [
    {
     "data": {
      "text/html": [
       "<div>\n",
       "<style scoped>\n",
       "    .dataframe tbody tr th:only-of-type {\n",
       "        vertical-align: middle;\n",
       "    }\n",
       "\n",
       "    .dataframe tbody tr th {\n",
       "        vertical-align: top;\n",
       "    }\n",
       "\n",
       "    .dataframe thead th {\n",
       "        text-align: right;\n",
       "    }\n",
       "</style>\n",
       "<table border=\"1\" class=\"dataframe\">\n",
       "  <thead>\n",
       "    <tr style=\"text-align: right;\">\n",
       "      <th></th>\n",
       "      <th>id</th>\n",
       "      <th>date</th>\n",
       "      <th>price</th>\n",
       "      <th>bedrooms</th>\n",
       "      <th>bathrooms</th>\n",
       "      <th>sqft_living</th>\n",
       "      <th>sqft_lot</th>\n",
       "      <th>floors</th>\n",
       "      <th>waterfront</th>\n",
       "      <th>view</th>\n",
       "      <th>...</th>\n",
       "      <th>grade</th>\n",
       "      <th>sqft_above</th>\n",
       "      <th>sqft_basement</th>\n",
       "      <th>yr_built</th>\n",
       "      <th>yr_renovated</th>\n",
       "      <th>zipcode</th>\n",
       "      <th>lat</th>\n",
       "      <th>long</th>\n",
       "      <th>sqft_living15</th>\n",
       "      <th>sqft_lot15</th>\n",
       "    </tr>\n",
       "  </thead>\n",
       "  <tbody>\n",
       "    <tr>\n",
       "      <th>342</th>\n",
       "      <td>6414100671</td>\n",
       "      <td>20140909T000000</td>\n",
       "      <td>425000.0</td>\n",
       "      <td>-0.398728</td>\n",
       "      <td>-0.473610</td>\n",
       "      <td>0.457406</td>\n",
       "      <td>-0.199586</td>\n",
       "      <td>-0.915406</td>\n",
       "      <td>-0.087171</td>\n",
       "      <td>-0.305752</td>\n",
       "      <td>...</td>\n",
       "      <td>0.291909</td>\n",
       "      <td>-0.589779</td>\n",
       "      <td>2.052739</td>\n",
       "      <td>-0.476796</td>\n",
       "      <td>-0.210124</td>\n",
       "      <td>0.879547</td>\n",
       "      <td>1.170202</td>\n",
       "      <td>-0.753425</td>\n",
       "      <td>-0.593168</td>\n",
       "      <td>-0.149334</td>\n",
       "    </tr>\n",
       "    <tr>\n",
       "      <th>4778</th>\n",
       "      <td>8718500275</td>\n",
       "      <td>20140715T000000</td>\n",
       "      <td>390000.0</td>\n",
       "      <td>-0.398728</td>\n",
       "      <td>0.824816</td>\n",
       "      <td>-0.141435</td>\n",
       "      <td>-0.069216</td>\n",
       "      <td>-0.915406</td>\n",
       "      <td>-0.087171</td>\n",
       "      <td>-0.305752</td>\n",
       "      <td>...</td>\n",
       "      <td>-0.558823</td>\n",
       "      <td>-0.650159</td>\n",
       "      <td>0.922987</td>\n",
       "      <td>-0.510841</td>\n",
       "      <td>-0.210124</td>\n",
       "      <td>-0.933367</td>\n",
       "      <td>1.299384</td>\n",
       "      <td>-0.313173</td>\n",
       "      <td>-0.155462</td>\n",
       "      <td>-0.028144</td>\n",
       "    </tr>\n",
       "    <tr>\n",
       "      <th>12998</th>\n",
       "      <td>4221250120</td>\n",
       "      <td>20140827T000000</td>\n",
       "      <td>565000.0</td>\n",
       "      <td>0.676469</td>\n",
       "      <td>0.500209</td>\n",
       "      <td>0.217870</td>\n",
       "      <td>-0.253618</td>\n",
       "      <td>0.936484</td>\n",
       "      <td>-0.087171</td>\n",
       "      <td>-0.305752</td>\n",
       "      <td>...</td>\n",
       "      <td>0.291909</td>\n",
       "      <td>0.593666</td>\n",
       "      <td>-0.658666</td>\n",
       "      <td>1.089246</td>\n",
       "      <td>-0.210124</td>\n",
       "      <td>-0.054944</td>\n",
       "      <td>0.212519</td>\n",
       "      <td>1.383929</td>\n",
       "      <td>0.428146</td>\n",
       "      <td>-0.314071</td>\n",
       "    </tr>\n",
       "    <tr>\n",
       "      <th>16245</th>\n",
       "      <td>7217400895</td>\n",
       "      <td>20140609T000000</td>\n",
       "      <td>550000.0</td>\n",
       "      <td>-0.398728</td>\n",
       "      <td>-0.473610</td>\n",
       "      <td>-0.762052</td>\n",
       "      <td>-0.282589</td>\n",
       "      <td>0.010539</td>\n",
       "      <td>-0.087171</td>\n",
       "      <td>-0.305752</td>\n",
       "      <td>...</td>\n",
       "      <td>-0.558823</td>\n",
       "      <td>-0.493171</td>\n",
       "      <td>-0.658666</td>\n",
       "      <td>-2.417327</td>\n",
       "      <td>4.768974</td>\n",
       "      <td>0.823478</td>\n",
       "      <td>0.366961</td>\n",
       "      <td>-0.625610</td>\n",
       "      <td>-0.709890</td>\n",
       "      <td>-0.266350</td>\n",
       "    </tr>\n",
       "    <tr>\n",
       "      <th>15922</th>\n",
       "      <td>2425069069</td>\n",
       "      <td>20140527T000000</td>\n",
       "      <td>587000.0</td>\n",
       "      <td>-0.398728</td>\n",
       "      <td>0.175603</td>\n",
       "      <td>0.315862</td>\n",
       "      <td>4.893542</td>\n",
       "      <td>0.936484</td>\n",
       "      <td>-0.087171</td>\n",
       "      <td>-0.305752</td>\n",
       "      <td>...</td>\n",
       "      <td>-0.558823</td>\n",
       "      <td>0.702350</td>\n",
       "      <td>-0.658666</td>\n",
       "      <td>0.272180</td>\n",
       "      <td>-0.210124</td>\n",
       "      <td>-0.466121</td>\n",
       "      <td>0.550992</td>\n",
       "      <td>1.632458</td>\n",
       "      <td>1.624543</td>\n",
       "      <td>2.691146</td>\n",
       "    </tr>\n",
       "    <tr>\n",
       "      <th>...</th>\n",
       "      <td>...</td>\n",
       "      <td>...</td>\n",
       "      <td>...</td>\n",
       "      <td>...</td>\n",
       "      <td>...</td>\n",
       "      <td>...</td>\n",
       "      <td>...</td>\n",
       "      <td>...</td>\n",
       "      <td>...</td>\n",
       "      <td>...</td>\n",
       "      <td>...</td>\n",
       "      <td>...</td>\n",
       "      <td>...</td>\n",
       "      <td>...</td>\n",
       "      <td>...</td>\n",
       "      <td>...</td>\n",
       "      <td>...</td>\n",
       "      <td>...</td>\n",
       "      <td>...</td>\n",
       "      <td>...</td>\n",
       "      <td>...</td>\n",
       "    </tr>\n",
       "    <tr>\n",
       "      <th>14046</th>\n",
       "      <td>4051100230</td>\n",
       "      <td>20140820T000000</td>\n",
       "      <td>240000.0</td>\n",
       "      <td>-0.398728</td>\n",
       "      <td>-1.447430</td>\n",
       "      <td>-0.805604</td>\n",
       "      <td>-0.195724</td>\n",
       "      <td>-0.915406</td>\n",
       "      <td>-0.087171</td>\n",
       "      <td>-0.305752</td>\n",
       "      <td>...</td>\n",
       "      <td>-0.558823</td>\n",
       "      <td>-0.541475</td>\n",
       "      <td>-0.658666</td>\n",
       "      <td>0.238136</td>\n",
       "      <td>-0.210124</td>\n",
       "      <td>-0.671709</td>\n",
       "      <td>-1.341278</td>\n",
       "      <td>0.460819</td>\n",
       "      <td>-0.199233</td>\n",
       "      <td>-0.178158</td>\n",
       "    </tr>\n",
       "    <tr>\n",
       "      <th>7769</th>\n",
       "      <td>2323089009</td>\n",
       "      <td>20150119T000000</td>\n",
       "      <td>855000.0</td>\n",
       "      <td>0.676469</td>\n",
       "      <td>1.798635</td>\n",
       "      <td>2.123272</td>\n",
       "      <td>24.358971</td>\n",
       "      <td>0.936484</td>\n",
       "      <td>-0.087171</td>\n",
       "      <td>-0.305752</td>\n",
       "      <td>...</td>\n",
       "      <td>1.993372</td>\n",
       "      <td>2.706960</td>\n",
       "      <td>-0.658666</td>\n",
       "      <td>1.191379</td>\n",
       "      <td>-0.210124</td>\n",
       "      <td>-0.615639</td>\n",
       "      <td>-0.708357</td>\n",
       "      <td>3.336661</td>\n",
       "      <td>-0.228413</td>\n",
       "      <td>-0.039132</td>\n",
       "    </tr>\n",
       "    <tr>\n",
       "      <th>13079</th>\n",
       "      <td>8651730580</td>\n",
       "      <td>20150330T000000</td>\n",
       "      <td>531000.0</td>\n",
       "      <td>-0.398728</td>\n",
       "      <td>0.175603</td>\n",
       "      <td>-0.184987</td>\n",
       "      <td>-0.162165</td>\n",
       "      <td>-0.915406</td>\n",
       "      <td>-0.087171</td>\n",
       "      <td>-0.305752</td>\n",
       "      <td>...</td>\n",
       "      <td>-0.558823</td>\n",
       "      <td>0.146855</td>\n",
       "      <td>-0.658666</td>\n",
       "      <td>0.272180</td>\n",
       "      <td>-0.210124</td>\n",
       "      <td>-0.821228</td>\n",
       "      <td>1.226493</td>\n",
       "      <td>-0.014937</td>\n",
       "      <td>0.617819</td>\n",
       "      <td>-0.160358</td>\n",
       "    </tr>\n",
       "    <tr>\n",
       "      <th>12132</th>\n",
       "      <td>3897100060</td>\n",
       "      <td>20140723T000000</td>\n",
       "      <td>375000.0</td>\n",
       "      <td>-0.398728</td>\n",
       "      <td>-0.798217</td>\n",
       "      <td>-1.056028</td>\n",
       "      <td>-0.231937</td>\n",
       "      <td>-0.915406</td>\n",
       "      <td>-0.087171</td>\n",
       "      <td>-0.305752</td>\n",
       "      <td>...</td>\n",
       "      <td>-1.409554</td>\n",
       "      <td>-0.819222</td>\n",
       "      <td>-0.658666</td>\n",
       "      <td>-1.055551</td>\n",
       "      <td>4.761505</td>\n",
       "      <td>-0.839917</td>\n",
       "      <td>0.805748</td>\n",
       "      <td>0.212290</td>\n",
       "      <td>-0.461857</td>\n",
       "      <td>-0.225916</td>\n",
       "    </tr>\n",
       "    <tr>\n",
       "      <th>4797</th>\n",
       "      <td>5145000190</td>\n",
       "      <td>20141103T000000</td>\n",
       "      <td>369950.0</td>\n",
       "      <td>-0.398728</td>\n",
       "      <td>-1.447430</td>\n",
       "      <td>-1.056028</td>\n",
       "      <td>-0.181165</td>\n",
       "      <td>-0.915406</td>\n",
       "      <td>-0.087171</td>\n",
       "      <td>-0.305752</td>\n",
       "      <td>...</td>\n",
       "      <td>-0.558823</td>\n",
       "      <td>-0.819222</td>\n",
       "      <td>-0.658666</td>\n",
       "      <td>-0.136352</td>\n",
       "      <td>-0.210124</td>\n",
       "      <td>-0.821228</td>\n",
       "      <td>1.199069</td>\n",
       "      <td>-0.071744</td>\n",
       "      <td>-1.060055</td>\n",
       "      <td>-0.171199</td>\n",
       "    </tr>\n",
       "  </tbody>\n",
       "</table>\n",
       "<p>12967 rows × 21 columns</p>\n",
       "</div>"
      ],
      "text/plain": [
       "               id             date     price  bedrooms  bathrooms  \\\n",
       "342    6414100671  20140909T000000  425000.0 -0.398728  -0.473610   \n",
       "4778   8718500275  20140715T000000  390000.0 -0.398728   0.824816   \n",
       "12998  4221250120  20140827T000000  565000.0  0.676469   0.500209   \n",
       "16245  7217400895  20140609T000000  550000.0 -0.398728  -0.473610   \n",
       "15922  2425069069  20140527T000000  587000.0 -0.398728   0.175603   \n",
       "...           ...              ...       ...       ...        ...   \n",
       "14046  4051100230  20140820T000000  240000.0 -0.398728  -1.447430   \n",
       "7769   2323089009  20150119T000000  855000.0  0.676469   1.798635   \n",
       "13079  8651730580  20150330T000000  531000.0 -0.398728   0.175603   \n",
       "12132  3897100060  20140723T000000  375000.0 -0.398728  -0.798217   \n",
       "4797   5145000190  20141103T000000  369950.0 -0.398728  -1.447430   \n",
       "\n",
       "       sqft_living   sqft_lot    floors  waterfront      view  ...     grade  \\\n",
       "342       0.457406  -0.199586 -0.915406   -0.087171 -0.305752  ...  0.291909   \n",
       "4778     -0.141435  -0.069216 -0.915406   -0.087171 -0.305752  ... -0.558823   \n",
       "12998     0.217870  -0.253618  0.936484   -0.087171 -0.305752  ...  0.291909   \n",
       "16245    -0.762052  -0.282589  0.010539   -0.087171 -0.305752  ... -0.558823   \n",
       "15922     0.315862   4.893542  0.936484   -0.087171 -0.305752  ... -0.558823   \n",
       "...            ...        ...       ...         ...       ...  ...       ...   \n",
       "14046    -0.805604  -0.195724 -0.915406   -0.087171 -0.305752  ... -0.558823   \n",
       "7769      2.123272  24.358971  0.936484   -0.087171 -0.305752  ...  1.993372   \n",
       "13079    -0.184987  -0.162165 -0.915406   -0.087171 -0.305752  ... -0.558823   \n",
       "12132    -1.056028  -0.231937 -0.915406   -0.087171 -0.305752  ... -1.409554   \n",
       "4797     -1.056028  -0.181165 -0.915406   -0.087171 -0.305752  ... -0.558823   \n",
       "\n",
       "       sqft_above  sqft_basement  yr_built  yr_renovated   zipcode       lat  \\\n",
       "342     -0.589779       2.052739 -0.476796     -0.210124  0.879547  1.170202   \n",
       "4778    -0.650159       0.922987 -0.510841     -0.210124 -0.933367  1.299384   \n",
       "12998    0.593666      -0.658666  1.089246     -0.210124 -0.054944  0.212519   \n",
       "16245   -0.493171      -0.658666 -2.417327      4.768974  0.823478  0.366961   \n",
       "15922    0.702350      -0.658666  0.272180     -0.210124 -0.466121  0.550992   \n",
       "...           ...            ...       ...           ...       ...       ...   \n",
       "14046   -0.541475      -0.658666  0.238136     -0.210124 -0.671709 -1.341278   \n",
       "7769     2.706960      -0.658666  1.191379     -0.210124 -0.615639 -0.708357   \n",
       "13079    0.146855      -0.658666  0.272180     -0.210124 -0.821228  1.226493   \n",
       "12132   -0.819222      -0.658666 -1.055551      4.761505 -0.839917  0.805748   \n",
       "4797    -0.819222      -0.658666 -0.136352     -0.210124 -0.821228  1.199069   \n",
       "\n",
       "           long  sqft_living15  sqft_lot15  \n",
       "342   -0.753425      -0.593168   -0.149334  \n",
       "4778  -0.313173      -0.155462   -0.028144  \n",
       "12998  1.383929       0.428146   -0.314071  \n",
       "16245 -0.625610      -0.709890   -0.266350  \n",
       "15922  1.632458       1.624543    2.691146  \n",
       "...         ...            ...         ...  \n",
       "14046  0.460819      -0.199233   -0.178158  \n",
       "7769   3.336661      -0.228413   -0.039132  \n",
       "13079 -0.014937       0.617819   -0.160358  \n",
       "12132  0.212290      -0.461857   -0.225916  \n",
       "4797  -0.071744      -1.060055   -0.171199  \n",
       "\n",
       "[12967 rows x 21 columns]"
      ]
     },
     "execution_count": 903,
     "metadata": {},
     "output_type": "execute_result"
    }
   ],
   "source": [
    "train"
   ]
  },
  {
   "cell_type": "code",
   "execution_count": 904,
   "metadata": {},
   "outputs": [
    {
     "data": {
      "text/plain": [
       "array([[6414100671, '20140909T000000', 425000.0, ...,\n",
       "        -0.7534250085243271, -0.5931684412005154, -0.14933448676154995],\n",
       "       [8718500275, '20140715T000000', 390000.0, ...,\n",
       "        -0.3131727201597535, -0.1554622751920859, -0.028144249783982223],\n",
       "       [4221250120, '20140827T000000', 565000.0, ..., 1.3839288430521666,\n",
       "        0.4281459461524867, -0.31407117032912313],\n",
       "       ...,\n",
       "       [8651730580, '20150330T000000', 531000.0, ...,\n",
       "        -0.014937299009636633, 0.6178186180894728, -0.1603584400194067],\n",
       "       [3897100060, '20140723T000000', 375000.0, ...,\n",
       "        0.21228968853345373, -0.46185659139798657, -0.22591616869569747],\n",
       "       [5145000190, '20141103T000000', 369950.0, ...,\n",
       "        -0.07174404589525786, -1.0600550182761734, -0.17119927113012293]],\n",
       "      dtype=object)"
      ]
     },
     "execution_count": 904,
     "metadata": {},
     "output_type": "execute_result"
    }
   ],
   "source": [
    "train = train.to_numpy()\n",
    "train"
   ]
  },
  {
   "cell_type": "code",
   "execution_count": 905,
   "metadata": {},
   "outputs": [
    {
     "data": {
      "text/plain": [
       "array([[7202270440, '20141023T000000', 650000.0, ..., 1.2632145059198683,\n",
       "        1.1430660172995881, -0.27803273177187726],\n",
       "       [7376300060, '20140515T000000', 465750.0, ..., 0.6454411335373751,\n",
       "        -0.27218391946100046, -0.08857455834033966],\n",
       "       [7015200800, '20150309T000000', 750000.0, ...,\n",
       "        -1.0871646464782097, -0.3305447415954577, -0.24997841882995617],\n",
       "       ...,\n",
       "       [1657000070, '20141118T000000', 250000.0, ..., 0.1483820982869785,\n",
       "        -0.7536607020702729, -0.06601390981263289],\n",
       "       [2695600005, '20140620T000000', 325000.0, ...,\n",
       "        -1.1936772968890017, -1.264317895746774, -0.3030472170712664],\n",
       "       [2397101270, '20150126T000000', 716000.0, ...,\n",
       "        -1.0658621163959503, -1.0746452238097879, -0.33578945697998375]],\n",
       "      dtype=object)"
      ]
     },
     "execution_count": 905,
     "metadata": {},
     "output_type": "execute_result"
    }
   ],
   "source": [
    "validate = validate.to_numpy()\n",
    "validate"
   ]
  },
  {
   "cell_type": "code",
   "execution_count": 906,
   "metadata": {},
   "outputs": [
    {
     "data": {
      "text/plain": [
       "array([[2122059216, '20150414T000000', 422000.0, ...,\n",
       "        0.19808800181194752, 1.534083525600452, -0.20778707612879024],\n",
       "       [441000065, '20150505T000000', 653000.0, ..., -0.5403997077028438,\n",
       "        -1.0162844016753305, -0.2696457374328434],\n",
       "       [7276100020, '20150414T000000', 505000.0, ..., -0.90964356246029,\n",
       "        -0.24300350839377183, -0.17482508964350438],\n",
       "       ...,\n",
       "       [1438000430, '20141006T000000', 459995.0, ..., 0.6454411335373751,\n",
       "        0.8804423176945305, -0.3161587628065246],\n",
       "       [5419801120, '20150113T000000', 314000.0, ...,\n",
       "        0.21939053189420685, -0.5348076190660581, -0.16731708161074482],\n",
       "       [1338800491, '20141021T000000', 799500.0, ...,\n",
       "        -0.6327106713921298, 1.128475811765974, -0.2702317283036929]],\n",
       "      dtype=object)"
      ]
     },
     "execution_count": 906,
     "metadata": {},
     "output_type": "execute_result"
    }
   ],
   "source": [
    "test = test.to_numpy()\n",
    "test"
   ]
  },
  {
   "cell_type": "code",
   "execution_count": 907,
   "metadata": {},
   "outputs": [
    {
     "data": {
      "text/plain": [
       "array([[-0.3987279239700485, -0.4736104532705165],\n",
       "       [-0.3987279239700485, 0.8248157186754046],\n",
       "       [0.6764694086269151, 0.5002091756889243],\n",
       "       ...,\n",
       "       [-0.3987279239700485, 0.17560263270244408],\n",
       "       [-0.3987279239700485, -0.7982169962569967],\n",
       "       [-0.3987279239700485, -1.4474300822299573]], dtype=object)"
      ]
     },
     "execution_count": 907,
     "metadata": {},
     "output_type": "execute_result"
    }
   ],
   "source": [
    "train_x = train[:, [3, 4]]\n",
    "train_x"
   ]
  },
  {
   "cell_type": "code",
   "execution_count": 908,
   "metadata": {},
   "outputs": [
    {
     "data": {
      "text/plain": [
       "array([425000.0, 390000.0, 565000.0, ..., 531000.0, 375000.0, 369950.0],\n",
       "      dtype=object)"
      ]
     },
     "execution_count": 908,
     "metadata": {},
     "output_type": "execute_result"
    }
   ],
   "source": [
    "train_y = train[:,2]\n",
    "train_y"
   ]
  },
  {
   "cell_type": "code",
   "execution_count": 909,
   "metadata": {},
   "outputs": [
    {
     "data": {
      "text/plain": [
       "12967"
      ]
     },
     "execution_count": 909,
     "metadata": {},
     "output_type": "execute_result"
    }
   ],
   "source": [
    "train_m = train_y.size\n",
    "train_m"
   ]
  },
  {
   "cell_type": "code",
   "execution_count": 910,
   "metadata": {},
   "outputs": [
    {
     "data": {
      "text/plain": [
       "array([[1.0, -0.3987279239700485, -0.4736104532705165],\n",
       "       [1.0, -0.3987279239700485, 0.8248157186754046],\n",
       "       [1.0, 0.6764694086269151, 0.5002091756889243],\n",
       "       ...,\n",
       "       [1.0, -0.3987279239700485, 0.17560263270244408],\n",
       "       [1.0, -0.3987279239700485, -0.7982169962569967],\n",
       "       [1.0, -0.3987279239700485, -1.4474300822299573]], dtype=object)"
      ]
     },
     "execution_count": 910,
     "metadata": {},
     "output_type": "execute_result"
    }
   ],
   "source": [
    "train_x = np.concatenate([np.ones((train_m,1)), train_x], axis=1)\n",
    "train_x"
   ]
  },
  {
   "cell_type": "code",
   "execution_count": 911,
   "metadata": {},
   "outputs": [],
   "source": [
    "def computeCostMulti(train_x, train_y, theta, lambda_):\n",
    "    \n",
    "    # Initialize some useful values\n",
    "    train_m = train_y.shape[0] # number of training examples\n",
    "    \n",
    "    # You need to return the following variable correctly\n",
    "    J = 0\n",
    "    \n",
    "    # ======================= YOUR CODE HERE ===========================\n",
    "    \n",
    "    J = 0\n",
    "    J = np.dot((np.dot(train_x,theta)-train_y),(np.dot(train_x,theta)-train_y))/(2*train_m)+((lambda_/(2*train_m))*np.sum(np.dot(theta,theta)))\n",
    "    \n",
    "    # ==================================================================\n",
    "    return J\n"
   ]
  },
  {
   "cell_type": "code",
   "execution_count": 912,
   "metadata": {},
   "outputs": [],
   "source": [
    "def gradientDescentMulti(train_x, train_y, theta, alpha, num_iters,lambda_):\n",
    "    \n",
    "    # Initialize some useful values\n",
    "    train_m = train_y.shape[0] # number of training examples\n",
    "    \n",
    "    # make a copy of theta, which will be updated by gradient descent\n",
    "    theta = theta.copy()\n",
    "    \n",
    "    J_history = []\n",
    "    \n",
    "    for i in range(num_iters):\n",
    "        # ======================= YOUR CODE HERE ==========================\n",
    "        sumofh0x=np.dot(train_x,theta)\n",
    "        theta = theta*(1-(alpha*lambda_)/train_m)-((alpha/train_m)*(np.dot(train_x.T,sumofh0x-train_y)))\n",
    "        #theta=theta-((alpha/train_m)*(np.dot(train_x.T,sumofh0x-train_y)))\n",
    "        # =================================================================\n",
    "        \n",
    "        # save the cost J in every iteration\n",
    "        J_history.append(computeCostMulti(train_x, train_y, theta,lambda_))\n",
    "    \n",
    "    return theta, J_history"
   ]
  },
  {
   "cell_type": "code",
   "execution_count": 913,
   "metadata": {},
   "outputs": [
    {
     "data": {
      "text/plain": [
       "Text(0, 0.5, 'Cost J')"
      ]
     },
     "execution_count": 913,
     "metadata": {},
     "output_type": "execute_result"
    },
    {
     "data": {
      "image/png": "[encoded data removed]",
      "text/plain": [
       "<Figure size 432x288 with 1 Axes>"
      ]
     },
     "metadata": {
      "needs_background": "light"
     },
     "output_type": "display_data"
    }
   ],
   "source": [
    "# Choose some alpha value - change this\n",
    "alpha = 0.1\n",
    "num_iters = 100\n",
    "\n",
    "# init theta and run gradient descent\n",
    "theta = np.zeros(3)\n",
    "theta, J_history = gradientDescentMulti(train_x, train_y, theta, alpha, num_iters,lambda_)\n",
    "\n",
    "# Plot the convergence graph\n",
    "pyplot.plot(np.arange(len(J_history)), J_history, lw=2)\n",
    "pyplot.xlabel('Number of iterations')\n",
    "pyplot.ylabel('Cost J')"
   ]
  },
  {
   "cell_type": "code",
   "execution_count": 914,
   "metadata": {},
   "outputs": [],
   "source": [
    "def computeCostMulti2(train_x, train_y, theta,lambda_):\n",
    "    \n",
    "    # Initialize some useful values\n",
    "    train_m = train_y.shape[0] # number of training examples\n",
    "    \n",
    "    # You need to return the following variable correctly\n",
    "    J = 0\n",
    "    \n",
    "    # ======================= YOUR CODE HERE ===========================\n",
    "    \n",
    "    J = 0\n",
    "    J = np.dot((np.dot(np.square(train_x),theta)-train_y),(np.dot(np.square(train_x),theta)-train_y))/(2*train_m)+((lambda_/(2*train_m))*np.sum(np.dot(theta,theta)))\n",
    "    \n",
    "    # ==================================================================\n",
    "    return J"
   ]
  },
  {
   "cell_type": "code",
   "execution_count": 915,
   "metadata": {},
   "outputs": [],
   "source": [
    "def gradientDescentMulti2(train_x, train_y, theta, alpha, num_iters, lambda_):\n",
    "    \n",
    "    # Initialize some useful values\n",
    "    train_m = train_y.shape[0] # number of training examples\n",
    "    \n",
    "    # make a copy of theta, which will be updated by gradient descent\n",
    "    theta = theta.copy()\n",
    "    \n",
    "    J_history = []\n",
    "    \n",
    "    for i in range(num_iters):\n",
    "        # ======================= YOUR CODE HERE ==========================\n",
    "        sumofh0x=np.dot(np.square(train_x),theta)\n",
    "        theta = theta*(1-(alpha*lambda_)/train_m)-((alpha/train_m)*(np.dot(train_x.T,sumofh0x-train_y)))\n",
    "        #theta=theta-((alpha/train_m)*(np.dot(np.square(train_x).T,sumofh0x-train_y)))\n",
    "        # =================================================================\n",
    "        \n",
    "        # save the cost J in every iteration\n",
    "        J_history.append(computeCostMulti2(train_x, train_y, theta,lambda_))\n",
    "    \n",
    "    return theta, J_history"
   ]
  },
  {
   "cell_type": "code",
   "execution_count": 916,
   "metadata": {},
   "outputs": [
    {
     "data": {
      "text/plain": [
       "Text(0, 0.5, 'Cost J')"
      ]
     },
     "execution_count": 916,
     "metadata": {},
     "output_type": "execute_result"
    },
    {
     "data": {
      "image/png": "[encoded data removed]",
      "text/plain": [
       "<Figure size 432x288 with 1 Axes>"
      ]
     },
     "metadata": {
      "needs_background": "light"
     },
     "output_type": "display_data"
    }
   ],
   "source": [
    "# Choose some alpha value - change this\n",
    "alpha = 0.0082\n",
    "num_iters = 100\n",
    "\n",
    "# init theta and run gradient descent\n",
    "theta = np.zeros(3)\n",
    "theta, J_history = gradientDescentMulti2(train_x, train_y, theta, alpha, num_iters,lambda_)\n",
    "\n",
    "# Plot the convergence graph\n",
    "pyplot.plot(np.arange(len(J_history)), J_history, lw=2)\n",
    "pyplot.xlabel('Number of iterations')\n",
    "pyplot.ylabel('Cost J')"
   ]
  },
  {
   "cell_type": "code",
   "execution_count": 917,
   "metadata": {},
   "outputs": [],
   "source": [
    "def computeCostMulti3(train_x, train_y, theta,lambda_):\n",
    "    \n",
    "    # Initialize some useful values\n",
    "    train_m = train_y.shape[0] # number of training examples\n",
    "    \n",
    "    # You need to return the following variable correctly\n",
    "    J = 0\n",
    "    \n",
    "    # ======================= YOUR CODE HERE ===========================\n",
    "    \n",
    "    J = 0\n",
    "    J = np.dot((np.dot(np.power(train_x,3),theta)-train_y),(np.dot(np.power(train_x,3),theta)-train_y))/(2*train_m)+((lambda_/(2*train_m))*np.sum(np.dot(theta,theta)))\n",
    "    \n",
    "    # ==================================================================\n",
    "    return J"
   ]
  },
  {
   "cell_type": "code",
   "execution_count": 918,
   "metadata": {},
   "outputs": [],
   "source": [
    "def gradientDescentMulti3(train_x, train_y, theta, alpha, num_iters,lambda_):\n",
    "    \n",
    "    # Initialize some useful values\n",
    "    train_m = train_y.shape[0] # number of training examples\n",
    "    \n",
    "    # make a copy of theta, which will be updated by gradient descent\n",
    "    theta = theta.copy()\n",
    "    \n",
    "    J_history = []\n",
    "    \n",
    "    for i in range(num_iters):\n",
    "        # ======================= YOUR CODE HERE ==========================\n",
    "        sumofh0x=np.dot(np.power(train_x,3),theta)\n",
    "        theta=theta*(1-(alpha*lambda_)/train_m)-((alpha/train_m)*(np.dot(train_x.T, sumofh0x-train_y)))\n",
    "        #theta=theta-((alpha/train_m)*(np.dot(np.power(train_x,3).T,sumofh0x-train_y)))\n",
    "        # =================================================================\n",
    "        \n",
    "        # save the cost J in every iteration\n",
    "        J_history.append(computeCostMulti3(train_x, train_y, theta,lambda_))\n",
    "    \n",
    "    return theta, J_history"
   ]
  },
  {
   "cell_type": "code",
   "execution_count": 919,
   "metadata": {},
   "outputs": [
    {
     "data": {
      "text/plain": [
       "Text(0, 0.5, 'Cost J')"
      ]
     },
     "execution_count": 919,
     "metadata": {},
     "output_type": "execute_result"
    },
    {
     "data": {
      "image/png": "[encoded data removed]",
      "text/plain": [
       "<Figure size 432x288 with 1 Axes>"
      ]
     },
     "metadata": {
      "needs_background": "light"
     },
     "output_type": "display_data"
    }
   ],
   "source": [
    "# Choose some alpha value - change this\n",
    "alpha = 0.014\n",
    "num_iters = 100\n",
    "\n",
    "# init theta and run gradient descent\n",
    "theta = np.zeros(3)\n",
    "theta, J_history = gradientDescentMulti3(train_x, train_y, theta, alpha, num_iters,lambda_)\n",
    "\n",
    "# Plot the convergence graph\n",
    "pyplot.plot(np.arange(len(J_history)), J_history, lw=2)\n",
    "pyplot.xlabel('Number of iterations')\n",
    "pyplot.ylabel('Cost J')"
   ]
  },
  {
   "cell_type": "code",
   "execution_count": 920,
   "metadata": {},
   "outputs": [
    {
     "data": {
      "text/plain": [
       "array([[0.6764694086269151, 0.5002091756889243],\n",
       "       [-0.3987279239700485, -0.7982169962569967],\n",
       "       [-0.3987279239700485, -0.1490039102840362],\n",
       "       ...,\n",
       "       [-0.3987279239700485, -0.1490039102840362],\n",
       "       [-1.473925256567012, -1.4474300822299573],\n",
       "       [-0.3987279239700485, -0.1490039102840362]], dtype=object)"
      ]
     },
     "execution_count": 920,
     "metadata": {},
     "output_type": "execute_result"
    }
   ],
   "source": [
    "validate_x = validate[:, [3, 4]]\n",
    "validate_x"
   ]
  },
  {
   "cell_type": "code",
   "execution_count": 921,
   "metadata": {},
   "outputs": [
    {
     "data": {
      "text/plain": [
       "array([650000.0, 465750.0, 750000.0, ..., 250000.0, 325000.0, 716000.0],\n",
       "      dtype=object)"
      ]
     },
     "execution_count": 921,
     "metadata": {},
     "output_type": "execute_result"
    }
   ],
   "source": [
    "validate_y = validate[:,2]\n",
    "validate_y"
   ]
  },
  {
   "cell_type": "code",
   "execution_count": 922,
   "metadata": {},
   "outputs": [
    {
     "data": {
      "text/plain": [
       "4323"
      ]
     },
     "execution_count": 922,
     "metadata": {},
     "output_type": "execute_result"
    }
   ],
   "source": [
    "validate_m = validate_y.size\n",
    "validate_m"
   ]
  },
  {
   "cell_type": "code",
   "execution_count": 923,
   "metadata": {},
   "outputs": [
    {
     "data": {
      "text/plain": [
       "array([[1.0, 0.6764694086269151, 0.5002091756889243],\n",
       "       [1.0, -0.3987279239700485, -0.7982169962569967],\n",
       "       [1.0, -0.3987279239700485, -0.1490039102840362],\n",
       "       ...,\n",
       "       [1.0, -0.3987279239700485, -0.1490039102840362],\n",
       "       [1.0, -1.473925256567012, -1.4474300822299573],\n",
       "       [1.0, -0.3987279239700485, -0.1490039102840362]], dtype=object)"
      ]
     },
     "execution_count": 923,
     "metadata": {},
     "output_type": "execute_result"
    }
   ],
   "source": [
    "validate_x = np.concatenate([np.ones((validate_m,1)), validate_x], axis=1)\n",
    "validate_x"
   ]
  },
  {
   "cell_type": "code",
   "execution_count": 924,
   "metadata": {},
   "outputs": [
    {
     "data": {
      "text/plain": [
       "Text(0, 0.5, 'Cost J')"
      ]
     },
     "execution_count": 924,
     "metadata": {},
     "output_type": "execute_result"
    },
    {
     "data": {
      "image/png": "[encoded data removed]",
      "text/plain": [
       "<Figure size 432x288 with 1 Axes>"
      ]
     },
     "metadata": {
      "needs_background": "light"
     },
     "output_type": "display_data"
    }
   ],
   "source": [
    "# Choose some alpha value - change this\n",
    "alpha = 0.1 # as alpha increases to 0.1, curve converges sooner\n",
    "num_iters = 100\n",
    "\n",
    "# init theta and run gradient descent\n",
    "theta = np.zeros(3)\n",
    "theta, J_history = gradientDescentMulti(validate_x, validate_y, theta, alpha, num_iters, lambda_)\n",
    "\n",
    "# Plot the convergence graph\n",
    "pyplot.plot(np.arange(len(J_history)), J_history, lw=2)\n",
    "pyplot.xlabel('Number of iterations')\n",
    "pyplot.ylabel('Cost J')"
   ]
  },
  {
   "cell_type": "code",
   "execution_count": 925,
   "metadata": {},
   "outputs": [
    {
     "data": {
      "text/plain": [
       "Text(0, 0.5, 'Cost J')"
      ]
     },
     "execution_count": 925,
     "metadata": {},
     "output_type": "execute_result"
    },
    {
     "data": {
      "image/png": "[encoded data removed]",
      "text/plain": [
       "<Figure size 432x288 with 1 Axes>"
      ]
     },
     "metadata": {
      "needs_background": "light"
     },
     "output_type": "display_data"
    }
   ],
   "source": [
    "# Choose some alpha value - change this\n",
    "alpha = 0.0082\n",
    "num_iters = 100\n",
    "\n",
    "# init theta and run gradient descent\n",
    "theta = np.zeros(3)\n",
    "theta, J_history = gradientDescentMulti2(validate_x, validate_y, theta, alpha, num_iters, lambda_)\n",
    "\n",
    "# Plot the convergence graph\n",
    "pyplot.plot(np.arange(len(J_history)), J_history, lw=2)\n",
    "pyplot.xlabel('Number of iterations')\n",
    "pyplot.ylabel('Cost J')"
   ]
  },
  {
   "cell_type": "code",
   "execution_count": 926,
   "metadata": {},
   "outputs": [
    {
     "data": {
      "text/plain": [
       "Text(0, 0.5, 'Cost J')"
      ]
     },
     "execution_count": 926,
     "metadata": {},
     "output_type": "execute_result"
    },
    {
     "data": {
      "image/png": "[encoded data removed]",
      "text/plain": [
       "<Figure size 432x288 with 1 Axes>"
      ]
     },
     "metadata": {
      "needs_background": "light"
     },
     "output_type": "display_data"
    }
   ],
   "source": [
    "# Choose some alpha value - change this\n",
    "alpha = 0.014 \n",
    "num_iters = 100\n",
    "\n",
    "# init theta and run gradient descent\n",
    "theta = np.zeros(3)\n",
    "theta, J_history = gradientDescentMulti3(validate_x, validate_y, theta, alpha, num_iters, lambda_)\n",
    "\n",
    "# Plot the convergence graph\n",
    "pyplot.plot(np.arange(len(J_history)), J_history, lw=2)\n",
    "pyplot.xlabel('Number of iterations')\n",
    "pyplot.ylabel('Cost J')"
   ]
  },
  {
   "cell_type": "code",
   "execution_count": 927,
   "metadata": {},
   "outputs": [
    {
     "data": {
      "text/plain": [
       "array([[0.6764694086269151, 0.5002091756889243],\n",
       "       [-1.473925256567012, -0.7982169962569967],\n",
       "       [0.6764694086269151, -1.4474300822299573],\n",
       "       ...,\n",
       "       [0.6764694086269151, 0.5002091756889243],\n",
       "       [-0.3987279239700485, 0.8248157186754046],\n",
       "       [0.6764694086269151, 0.5002091756889243]], dtype=object)"
      ]
     },
     "execution_count": 927,
     "metadata": {},
     "output_type": "execute_result"
    }
   ],
   "source": [
    "test_x = test[:, [3, 4]]\n",
    "test_x"
   ]
  },
  {
   "cell_type": "code",
   "execution_count": 928,
   "metadata": {},
   "outputs": [
    {
     "data": {
      "text/plain": [
       "array([422000.0, 653000.0, 505000.0, ..., 459995.0, 314000.0, 799500.0],\n",
       "      dtype=object)"
      ]
     },
     "execution_count": 928,
     "metadata": {},
     "output_type": "execute_result"
    }
   ],
   "source": [
    "test_y = test[:,2]\n",
    "test_y"
   ]
  },
  {
   "cell_type": "code",
   "execution_count": 929,
   "metadata": {},
   "outputs": [
    {
     "data": {
      "text/plain": [
       "4323"
      ]
     },
     "execution_count": 929,
     "metadata": {},
     "output_type": "execute_result"
    }
   ],
   "source": [
    "test_m = test_y.size\n",
    "test_m"
   ]
  },
  {
   "cell_type": "code",
   "execution_count": 930,
   "metadata": {},
   "outputs": [
    {
     "data": {
      "text/plain": [
       "array([[1.0, 0.6764694086269151, 0.5002091756889243],\n",
       "       [1.0, -1.473925256567012, -0.7982169962569967],\n",
       "       [1.0, 0.6764694086269151, -1.4474300822299573],\n",
       "       ...,\n",
       "       [1.0, 0.6764694086269151, 0.5002091756889243],\n",
       "       [1.0, -0.3987279239700485, 0.8248157186754046],\n",
       "       [1.0, 0.6764694086269151, 0.5002091756889243]], dtype=object)"
      ]
     },
     "execution_count": 930,
     "metadata": {},
     "output_type": "execute_result"
    }
   ],
   "source": [
    "test_x = np.concatenate([np.ones((test_m,1)), test_x], axis=1)\n",
    "test_x"
   ]
  },
  {
   "cell_type": "code",
   "execution_count": 931,
   "metadata": {},
   "outputs": [
    {
     "data": {
      "text/plain": [
       "Text(0, 0.5, 'Cost J')"
      ]
     },
     "execution_count": 931,
     "metadata": {},
     "output_type": "execute_result"
    },
    {
     "data": {
      "image/png": "[encoded data removed]",
      "text/plain": [
       "<Figure size 432x288 with 1 Axes>"
      ]
     },
     "metadata": {
      "needs_background": "light"
     },
     "output_type": "display_data"
    }
   ],
   "source": [
    "# Choose some alpha value - change this\n",
    "alpha = 0.1 # as alpha increases to 0.1, curve converges sooner\n",
    "num_iters = 100\n",
    "\n",
    "# init theta and run gradient descent\n",
    "theta = np.zeros(3)\n",
    "theta, J_history = gradientDescentMulti(test_x, test_y, theta, alpha, num_iters, lambda_)\n",
    "\n",
    "# Plot the convergence graph\n",
    "pyplot.plot(np.arange(len(J_history)), J_history, lw=2)\n",
    "pyplot.xlabel('Number of iterations')\n",
    "pyplot.ylabel('Cost J')"
   ]
  },
  {
   "cell_type": "code",
   "execution_count": 932,
   "metadata": {},
   "outputs": [
    {
     "data": {
      "text/plain": [
       "Text(0, 0.5, 'Cost J')"
      ]
     },
     "execution_count": 932,
     "metadata": {},
     "output_type": "execute_result"
    },
    {
     "data": {
      "image/png": "[encoded data removed]",
      "text/plain": [
       "<Figure size 432x288 with 1 Axes>"
      ]
     },
     "metadata": {
      "needs_background": "light"
     },
     "output_type": "display_data"
    }
   ],
   "source": [
    "# Choose some alpha value - change this\n",
    "alpha = 0.0082\n",
    "num_iters = 100\n",
    "\n",
    "# init theta and run gradient descent\n",
    "theta = np.zeros(3)\n",
    "theta, J_history = gradientDescentMulti2(test_x, test_y, theta, alpha, num_iters, lambda_)\n",
    "\n",
    "# Plot the convergence graph\n",
    "pyplot.plot(np.arange(len(J_history)), J_history, lw=2)\n",
    "pyplot.xlabel('Number of iterations')\n",
    "pyplot.ylabel('Cost J')"
   ]
  },
  {
   "cell_type": "code",
   "execution_count": 933,
   "metadata": {},
   "outputs": [
    {
     "data": {
      "text/plain": [
       "Text(0, 0.5, 'Cost J')"
      ]
     },
     "execution_count": 933,
     "metadata": {},
     "output_type": "execute_result"
    },
    {
     "data": {
      "image/png": "[encoded data removed]",
      "text/plain": [
       "<Figure size 432x288 with 1 Axes>"
      ]
     },
     "metadata": {
      "needs_background": "light"
     },
     "output_type": "display_data"
    }
   ],
   "source": [
    "# Choose some alpha value - change this\n",
    "alpha = 0.014\n",
    "num_iters = 100\n",
    "\n",
    "# init theta and run gradient descent\n",
    "theta = np.zeros(3)\n",
    "theta, J_history = gradientDescentMulti3(test_x, test_y, theta, alpha, num_iters, lambda_)\n",
    "\n",
    "# Plot the convergence graph\n",
    "pyplot.plot(np.arange(len(J_history)), J_history, lw=2)\n",
    "pyplot.xlabel('Number of iterations')\n",
    "pyplot.ylabel('Cost J')"
   ]
  },
  {
   "cell_type": "code",
   "execution_count": null,
   "metadata": {},
   "outputs": [],
   "source": []
  }
 ],
 "metadata": {
  "kernelspec": {
   "display_name": "Python 3",
   "language": "python",
   "name": "python3"
  },
  "language_info": {
   "codemirror_mode": {
    "name": "ipython",
    "version": 3
   },
   "file_extension": ".py",
   "mimetype": "text/x-python",
   "name": "python",
   "nbconvert_exporter": "python",
   "pygments_lexer": "ipython3",
   "version": "3.8.1"
  }
 },
 "nbformat": 4,
 "nbformat_minor": 4
}
